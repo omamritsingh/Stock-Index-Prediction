{
 "cells": [
  {
   "cell_type": "code",
   "execution_count": 1,
   "metadata": {},
   "outputs": [],
   "source": [
    "# Import\n",
    "import tensorflow as tf\n",
    "import numpy as np\n",
    "import pandas as pd\n",
    "from sklearn.preprocessing import MinMaxScaler\n",
    "import matplotlib.pyplot as plt\n"
   ]
  },
  {
   "cell_type": "code",
   "execution_count": 2,
   "metadata": {},
   "outputs": [],
   "source": [
    "# Import data\n",
    "data= pd.read_csv(\"data_stocks.csv\")"
   ]
  },
  {
   "cell_type": "code",
   "execution_count": 3,
   "metadata": {},
   "outputs": [
    {
     "data": {
      "text/plain": [
       "<bound method NDFrame.head of              DATE      SP500  NASDAQ.AAL  NASDAQ.AAPL  NASDAQ.ADBE  \\\n",
       "0      1491226200  2363.6101     42.3300     143.6800     129.6300   \n",
       "1      1491226260  2364.1001     42.3600     143.7000     130.3200   \n",
       "2      1491226320  2362.6799     42.3100     143.6901     130.2250   \n",
       "3      1491226380  2364.3101     42.3700     143.6400     130.0729   \n",
       "4      1491226440  2364.8501     42.5378     143.6600     129.8800   \n",
       "5      1491226500  2365.6201     42.5399     143.7800     130.0700   \n",
       "6      1491226560  2365.2000     42.4700     143.8640     130.1800   \n",
       "7      1491226620  2365.2900     42.4700     143.8100     130.1400   \n",
       "8      1491226680  2364.3201     42.3900     143.8150     130.1000   \n",
       "9      1491226740  2364.6399     42.3300     143.8000     130.2100   \n",
       "10     1491226800  2364.5801     42.4000     143.8900     130.1400   \n",
       "11     1491226860  2364.4800     42.2900     143.9700     130.3700   \n",
       "12     1491226920  2365.2300     42.2900     143.9199     130.4599   \n",
       "13     1491226980  2365.6599     42.3900     144.0239     130.6300   \n",
       "14     1491227040  2365.2400     42.4197     144.0500     130.6500   \n",
       "15     1491227100  2365.3201     42.4300     144.0638     130.6950   \n",
       "16     1491227160  2364.9600     42.4400     144.0200     130.5700   \n",
       "17     1491227220  2364.3999     42.4000     144.0200     130.4750   \n",
       "18     1491227280  2364.7400     42.3900     143.9700     130.3700   \n",
       "19     1491227340  2363.9399     42.4400     144.0300     130.3800   \n",
       "20     1491227400  2363.8799     42.3800     143.9800     130.2900   \n",
       "21     1491227460  2363.6001     42.3400     143.9000     130.3500   \n",
       "22     1491227520  2364.0400     42.2950     143.9100     130.4400   \n",
       "23     1491227580  2363.8301     42.2800     143.9100     130.4700   \n",
       "24     1491227640  2363.8501     42.2500     143.8600     130.4700   \n",
       "25     1491227700  2363.0300     42.2600     143.8600     130.2800   \n",
       "26     1491227760  2363.2500     42.2100     143.8935     130.2600   \n",
       "27     1491227820  2362.8701     42.2000     143.9300     130.2200   \n",
       "28     1491227880  2363.0300     42.1700     143.9500     130.1700   \n",
       "29     1491227940  2363.0601     42.1400     143.8700     130.1800   \n",
       "...           ...        ...         ...          ...          ...   \n",
       "41236  1504207860  2473.1001     44.7200     164.0700     155.0800   \n",
       "41237  1504207920  2473.7600     44.7150     164.0750     155.0700   \n",
       "41238  1504207980  2473.8201     44.7850     164.1500     155.1200   \n",
       "41239  1504208040  2473.8899     44.8000     164.1300     155.1300   \n",
       "41240  1504208100  2474.0701     44.7800     164.1400     155.1300   \n",
       "41241  1504208160  2474.1499     44.7800     164.1450     155.1100   \n",
       "41242  1504208220  2474.5000     44.7900     164.2050     155.1000   \n",
       "41243  1504208280  2474.6101     44.7800     164.2350     155.1300   \n",
       "41244  1504208340  2474.5100     44.8000     164.2900     155.1600   \n",
       "41245  1504208400  2474.4900     44.7850     164.2800     155.1600   \n",
       "41246  1504208460  2474.7800     44.7800     164.2600     155.1200   \n",
       "41247  1504208520  2474.8201     44.7800     164.2634     155.1100   \n",
       "41248  1504208580  2474.8999     44.8000     164.2400     155.0800   \n",
       "41249  1504208640  2474.5200     44.8300     164.2700     155.1300   \n",
       "41250  1504208700  2473.3201     44.8300     164.2000     155.1100   \n",
       "41251  1504208760  2473.3201     44.7550     164.1350     155.0900   \n",
       "41252  1504208820  2473.6101     44.7300     164.1800     155.0600   \n",
       "41253  1504208880  2473.1001     44.7150     164.2300     155.0700   \n",
       "41254  1504208940  2473.3501     44.7450     164.2100     155.0700   \n",
       "41255  1504209000  2472.5100     44.7400     164.1850     155.0600   \n",
       "41256  1504209060  2471.8899     44.7200     164.1600     155.0600   \n",
       "41257  1504209120  2472.7700     44.7300     164.0600     155.0100   \n",
       "41258  1504209180  2472.8999     44.7600     164.1900     155.1200   \n",
       "41259  1504209240  2472.6399     44.7500     164.2000     155.0900   \n",
       "41260  1504209300  2472.0200     44.7100     164.1400     155.0400   \n",
       "41261  1504209360  2472.2200     44.7200     164.1100     155.0900   \n",
       "41262  1504209420  2471.7700     44.7300     164.1200     155.1600   \n",
       "41263  1504209480  2470.0300     44.7400     164.0100     155.0650   \n",
       "41264  1504209540  2471.4900     44.7100     163.8800     154.9600   \n",
       "41265  1504209600  2471.4900     44.7400     163.9800     155.1600   \n",
       "\n",
       "       NASDAQ.ADI  NASDAQ.ADP  NASDAQ.ADSK  NASDAQ.AKAM  NASDAQ.ALXN  ...  \\\n",
       "0         82.0400    102.2300      85.2200      59.7600     121.5200  ...   \n",
       "1         82.0800    102.1400      85.6500      59.8400     121.4800  ...   \n",
       "2         82.0300    102.2125      85.5100      59.7950     121.9300  ...   \n",
       "3         82.0000    102.1400      85.4872      59.6200     121.4400  ...   \n",
       "4         82.0350    102.0600      85.7001      59.6200     121.6000  ...   \n",
       "5         82.0400    102.0400      85.9200      59.6100     121.7000  ...   \n",
       "6         82.1200    102.3300      85.9120      59.5400     121.6300  ...   \n",
       "7         82.1900    102.3700      85.8200      59.4100     121.6100  ...   \n",
       "8         82.2300    102.3800      85.8800      59.4300     121.7150  ...   \n",
       "9         82.1650    102.3300      85.8600      59.2600     121.8500  ...   \n",
       "10        82.2100    102.2000      85.8900      59.2700     122.1000  ...   \n",
       "11        82.1500    102.2800      85.9600      59.3600     122.1650  ...   \n",
       "12        82.1450    102.2700      85.9500      59.1650     122.1300  ...   \n",
       "13        82.1600    102.3100      86.0500      59.2000     121.9700  ...   \n",
       "14        82.2100    102.3200      86.1300      59.1450     122.0100  ...   \n",
       "15        82.1500    102.2800      86.1250      59.2000     122.0450  ...   \n",
       "16        82.1400    102.3000      86.3000      59.0901     121.9800  ...   \n",
       "17        82.1143    102.2100      86.3800      59.1800     122.0000  ...   \n",
       "18        82.0400    102.1700      86.5064      59.1600     122.0000  ...   \n",
       "19        82.1500    102.1800      86.6000      59.0399     121.9850  ...   \n",
       "20        82.0800    102.1500      86.6500      59.1350     121.9000  ...   \n",
       "21        82.0800    102.1900      86.6900      59.0750     121.7500  ...   \n",
       "22        82.0100    102.2200      86.8700      59.0400     121.7900  ...   \n",
       "23        81.9800    102.2100      87.0800      59.0500     121.7000  ...   \n",
       "24        82.0100    102.2100      86.8240      58.9800     121.7100  ...   \n",
       "25        81.9500    102.1700      86.6881      58.9599     121.7400  ...   \n",
       "26        81.8700    102.1900      86.6100      58.8950     121.4900  ...   \n",
       "27        81.8500    102.2000      86.4900      58.8000     121.5500  ...   \n",
       "28        81.7700    102.2500      86.4500      58.8000     121.5400  ...   \n",
       "29        81.8400    102.2400      86.3876      58.6801     121.5500  ...   \n",
       "...           ...         ...          ...          ...          ...  ...   \n",
       "41236     83.8000    106.4600     114.4300      47.2000     142.6500  ...   \n",
       "41237     83.8000    106.4600     114.4200      47.1900     142.6200  ...   \n",
       "41238     83.8050    106.5000     114.4900      47.2200     142.6000  ...   \n",
       "41239     83.6900    106.4900     114.5000      47.2100     142.6100  ...   \n",
       "41240     83.6600    106.5100     114.5100      47.2500     142.5800  ...   \n",
       "41241     83.7900    106.5400     114.5100      47.2500     142.6200  ...   \n",
       "41242     83.7500    106.6000     114.5300      47.2650     142.5600  ...   \n",
       "41243     83.7100    106.6300     114.5790      47.2600     142.6200  ...   \n",
       "41244     83.7100    106.6550     114.5500      47.2500     142.4900  ...   \n",
       "41245     83.6500    106.6500     114.5833      47.2500     142.5600  ...   \n",
       "41246     83.7200    106.6600     114.5700      47.2400     142.5400  ...   \n",
       "41247     83.7600    106.6900     114.5900      47.2300     142.5824  ...   \n",
       "41248     83.7850    106.7050     114.6300      47.2400     142.5600  ...   \n",
       "41249     83.8200    106.7800     114.6600      47.2400     142.5800  ...   \n",
       "41250     83.8100    106.7400     114.6400      47.2300     142.7300  ...   \n",
       "41251     83.7300    106.6600     114.5600      47.2100     142.6900  ...   \n",
       "41252     83.7300    106.6200     114.5000      47.2100     142.5700  ...   \n",
       "41253     83.7299    106.6500     114.4900      47.2100     142.5800  ...   \n",
       "41254     83.7100    106.6500     114.5100      47.2000     142.5800  ...   \n",
       "41255     83.7100    106.6500     114.4700      47.1500     142.5300  ...   \n",
       "41256     83.7100    106.6200     114.5300      47.1350     142.6450  ...   \n",
       "41257     83.7000    106.5600     114.5100      47.1150     142.4600  ...   \n",
       "41258     83.6300    106.6200     114.5600      47.1250     142.8750  ...   \n",
       "41259     83.6900    106.6000     114.5150      47.1300     142.8300  ...   \n",
       "41260     83.6600    106.6300     114.4500      47.1450     142.6300  ...   \n",
       "41261     83.6700    106.5650     114.4900      47.1500     142.4250  ...   \n",
       "41262     83.6500    106.5900     114.5200      47.1500     142.4500  ...   \n",
       "41263     83.6200    106.5200     114.4700      47.1500     142.3300  ...   \n",
       "41264     83.5800    106.4000     114.3300      47.1350     142.1700  ...   \n",
       "41265     83.6900    106.4700     114.4600      47.1500     142.4100  ...   \n",
       "\n",
       "       NYSE.WYN  NYSE.XEC  NYSE.XEL  NYSE.XL  NYSE.XOM  NYSE.XRX  NYSE.XYL  \\\n",
       "0       84.3700  119.0350    44.400  39.8800   82.0300    7.3600   50.2200   \n",
       "1       84.3700  119.0350    44.110  39.8800   82.0300    7.3800   50.2200   \n",
       "2       84.5850  119.2600    44.090  39.9800   82.0200    7.3600   50.1200   \n",
       "3       84.4600  119.2600    44.250  39.9900   82.0200    7.3500   50.1600   \n",
       "4       84.4700  119.6100    44.110  39.9600   82.0300    7.3600   50.2000   \n",
       "5       84.4825  119.5800    44.150  39.9600   82.0300    7.3600   50.2000   \n",
       "6       84.5000  119.3200    44.200  39.9800   82.0566    7.3650   50.3300   \n",
       "7       84.5200  119.1100    44.120  39.9500   82.0000    7.3600   50.3000   \n",
       "8       84.4800  119.3100    44.120  39.9300   81.9500    7.3700   50.2500   \n",
       "9       84.4000  119.1500    44.170  39.8600   81.9000    7.3650   50.2200   \n",
       "10      84.4400  119.0900    44.140  39.8800   81.8000    7.3700   50.2450   \n",
       "11      84.4300  119.0300    44.140  39.8700   81.8000    7.3620   50.2300   \n",
       "12      84.4200  118.9300    44.170  39.8800   81.7700    7.3700   50.1900   \n",
       "13      84.3600  119.0100    44.170  39.9300   81.7850    7.3608   50.2400   \n",
       "14      84.3500  119.0000    44.160  39.9200   81.8400    7.3700   50.2200   \n",
       "15      84.3000  118.7350    44.160  39.9100   81.7800    7.3500   50.1900   \n",
       "16      84.3300  118.8700    44.100  39.9400   81.7889    7.3500   50.1850   \n",
       "17      84.2600  119.2800    44.120  39.9400   81.8500    7.3450   50.1900   \n",
       "18      84.2500  119.1300    44.120  39.9300   81.8300    7.3250   50.1800   \n",
       "19      84.2600  119.3000    44.130  39.9393   81.8462    7.3200   50.1600   \n",
       "20      84.2600  119.2300    44.130  39.8900   81.8000    7.3050   50.1550   \n",
       "21      84.2500  119.3900    44.150  39.8600   81.8400    7.3000   50.1707   \n",
       "22      84.2950  119.3800    44.180  39.8600   81.9190    7.3000   50.1700   \n",
       "23      84.2100  119.3300    44.180  39.8900   81.8650    7.3000   50.1200   \n",
       "24      84.2900  119.1540    44.190  39.8800   81.8299    7.3150   50.1800   \n",
       "25      84.3402  119.1100    44.180  39.8900   81.7950    7.3100   50.2000   \n",
       "26      84.3600  119.1200    44.240  39.9100   81.8250    7.3000   50.1600   \n",
       "27      84.3300  119.1100    44.230  39.8900   81.7930    7.3000   50.1500   \n",
       "28      84.3300  118.8650    44.230  39.8800   81.8000    7.3050   50.1400   \n",
       "29      84.3300  119.1200    44.220  39.8900   81.8500    7.3100   50.1400   \n",
       "...         ...       ...       ...      ...       ...       ...       ...   \n",
       "41236   99.5850   99.8500    49.530  41.0100   76.4250   32.2900   62.0000   \n",
       "41237   99.5700   99.9000    49.530  41.0000   76.4650   32.2900   62.0110   \n",
       "41238   99.5900   99.8900    49.535  41.0050   76.4650   32.2900   62.0200   \n",
       "41239   99.6100   99.8600    49.540  41.0000   76.4600   32.2867   62.0300   \n",
       "41240   99.6050   99.8400    49.495  40.9900   76.4250   32.2900   62.0264   \n",
       "41241   99.5600   99.8301    49.515  40.9850   76.4300   32.2900   62.0200   \n",
       "41242   99.5850   99.7600    49.515  40.9800   76.4400   32.2950   62.0400   \n",
       "41243   99.6050   99.7500    49.515  40.9800   76.4150   32.3000   62.0700   \n",
       "41244   99.6000   99.7600    49.530  40.9600   76.4050   32.3000   62.1100   \n",
       "41245   99.6200   99.7200    49.535  40.9600   76.3900   32.3000   62.1050   \n",
       "41246   99.6250   99.7025    49.540  40.9950   76.4050   32.3000   62.1100   \n",
       "41247   99.6350   99.7300    49.535  41.0050   76.4050   32.2950   62.0950   \n",
       "41248   99.6600   99.7200    49.535  41.0150   76.4263   32.2700   62.1000   \n",
       "41249   99.6700   99.6400    49.495  41.0100   76.4100   32.2700   62.1000   \n",
       "41250   99.6775   99.5350    49.490  40.9900   76.3900   32.2700   62.1300   \n",
       "41251   99.6800   99.5950    49.480  40.9950   76.3834   32.2750   62.1050   \n",
       "41252   99.6900   99.5800    49.485  40.9900   76.4150   32.3000   62.0950   \n",
       "41253   99.6700   99.6200    49.490  41.0000   76.4150   32.3100   62.0900   \n",
       "41254   99.6600   99.6150    49.485  40.9950   76.3900   32.3050   62.0750   \n",
       "41255   99.6850   99.5850    49.485  41.0000   76.4050   32.2950   62.1200   \n",
       "41256   99.6900   99.4950    49.480  40.9900   76.3900   32.2900   62.0600   \n",
       "41257   99.6800   99.4700    49.470  40.9750   76.3650   32.2950   62.1000   \n",
       "41258   99.6850   99.4900    49.480  40.9700   76.3750   32.3000   62.1050   \n",
       "41259   99.6800   99.5000    49.475  40.9700   76.3750   32.2950   62.1050   \n",
       "41260   99.6600   99.4900    49.495  40.9750   76.4000   32.2950   62.0950   \n",
       "41261   99.6750   99.5300    49.485  40.9550   76.3600   32.2850   62.1100   \n",
       "41262   99.7300   99.6300    49.480  40.9600   76.3700   32.2950   62.1000   \n",
       "41263   99.7350   99.6400    49.495  40.9400   76.3150   32.2900   62.0900   \n",
       "41264   99.7000   99.6300    49.485  40.9250   76.3000   32.2750   62.0750   \n",
       "41265   99.6700   99.6400    49.490  40.9400   76.3200   32.2700   62.0700   \n",
       "\n",
       "       NYSE.YUM  NYSE.ZBH  NYSE.ZTS  \n",
       "0       63.8600  122.0000   53.3500  \n",
       "1       63.7400  121.7700   53.3500  \n",
       "2       63.7500  121.7000   53.3650  \n",
       "3       63.8800  121.7000   53.3800  \n",
       "4       63.9100  121.6950   53.2400  \n",
       "5       63.8400  121.8500   53.2200  \n",
       "6       63.8300  122.1000   53.3300  \n",
       "7       63.8300  122.2800   53.3700  \n",
       "8       63.8500  121.8750   53.3300  \n",
       "9       63.8400  121.9300   53.4000  \n",
       "10      63.8600  121.8600   53.3800  \n",
       "11      63.8800  121.8050   53.3900  \n",
       "12      63.8600  121.9400   53.4000  \n",
       "13      63.9100  122.0100   53.4250  \n",
       "14      63.9400  122.0000   53.4100  \n",
       "15      63.9900  122.0100   53.3600  \n",
       "16      63.9200  122.0500   53.4000  \n",
       "17      63.9000  121.9972   53.4000  \n",
       "18      63.8800  121.9600   53.4100  \n",
       "19      63.8600  122.0500   53.3900  \n",
       "20      63.8750  122.0100   53.3400  \n",
       "21      63.9100  122.0200   53.3300  \n",
       "22      63.9200  121.9500   53.3000  \n",
       "23      63.9800  122.0200   53.3000  \n",
       "24      63.9500  122.1500   53.3000  \n",
       "25      63.8800  122.1100   53.3150  \n",
       "26      63.8600  121.9600   53.3000  \n",
       "27      63.8400  121.9500   53.2900  \n",
       "28      63.7900  121.7600   53.2900  \n",
       "29      63.8000  121.8500   53.2900  \n",
       "...         ...       ...       ...  \n",
       "41236   76.6700  114.5600   62.6900  \n",
       "41237   76.6800  114.5700   62.6900  \n",
       "41238   76.6950  114.5800   62.7000  \n",
       "41239   76.6950  114.5800   62.7000  \n",
       "41240   76.7100  114.6200   62.7100  \n",
       "41241   76.7200  114.6100   62.7050  \n",
       "41242   76.7100  114.6001   62.7000  \n",
       "41243   76.7200  114.6200   62.7050  \n",
       "41244   76.7300  114.6300   62.7050  \n",
       "41245   76.7350  114.6500   62.7050  \n",
       "41246   76.7200  114.6600   62.7300  \n",
       "41247   76.7100  114.6700   62.7350  \n",
       "41248   76.7150  114.6600   62.7400  \n",
       "41249   76.7400  114.6300   62.7350  \n",
       "41250   76.7550  114.5700   62.7500  \n",
       "41251   76.7659  114.4100   62.7500  \n",
       "41252   76.7700  114.4160   62.7600  \n",
       "41253   76.8250  114.4000   62.7650  \n",
       "41254   76.7950  114.3800   62.7200  \n",
       "41255   76.8000  114.3900   62.7200  \n",
       "41256   76.8150  114.3600   62.7300  \n",
       "41257   76.8100  114.3100   62.7225  \n",
       "41258   76.8799  114.3500   62.7400  \n",
       "41259   76.9100  114.3200   62.7400  \n",
       "41260   76.8850  114.3000   62.7300  \n",
       "41261   76.8800  114.3100   62.7250  \n",
       "41262   76.9000  114.3300   62.7100  \n",
       "41263   76.8800  114.3100   62.6850  \n",
       "41264   76.8300  114.2300   62.6301  \n",
       "41265   76.8100  114.2800   62.6800  \n",
       "\n",
       "[41266 rows x 502 columns]>"
      ]
     },
     "execution_count": 3,
     "metadata": {},
     "output_type": "execute_result"
    }
   ],
   "source": [
    "data.head"
   ]
  },
  {
   "cell_type": "code",
   "execution_count": 4,
   "metadata": {},
   "outputs": [],
   "source": [
    "# Drop date variable\n",
    "data = data.drop(['DATE'], 1)"
   ]
  },
  {
   "cell_type": "code",
   "execution_count": 5,
   "metadata": {},
   "outputs": [],
   "source": [
    "# Dimensions of dataset\n",
    "n = data.shape[0]\n",
    "p = data.shape[1]\n"
   ]
  },
  {
   "cell_type": "code",
   "execution_count": 6,
   "metadata": {},
   "outputs": [],
   "source": [
    "# Make data a np.array\n",
    "data = data.values\n"
   ]
  },
  {
   "cell_type": "code",
   "execution_count": 7,
   "metadata": {},
   "outputs": [],
   "source": [
    "# Training and test data\n",
    "train_start = 0\n",
    "train_end = int(np.floor(0.8*n))\n",
    "test_start = train_end + 1\n",
    "test_end = n\n",
    "data_train = data[np.arange(train_start, train_end), :]\n",
    "data_test = data[np.arange(test_start, test_end), :]\n"
   ]
  },
  {
   "cell_type": "code",
   "execution_count": 8,
   "metadata": {},
   "outputs": [],
   "source": [
    "# Scale data\n",
    "scaler = MinMaxScaler(feature_range=(-1, 1))\n",
    "scaler.fit(data_train)\n",
    "data_train = scaler.transform(data_train)\n",
    "data_test = scaler.transform(data_test)\n"
   ]
  },
  {
   "cell_type": "code",
   "execution_count": 9,
   "metadata": {},
   "outputs": [],
   "source": [
    "# Build X and y\n",
    "X_train = data_train[:, 1:]\n",
    "y_train = data_train[:, 0]\n",
    "X_test = data_test[:, 1:]\n",
    "y_test = data_test[:, 0]\n"
   ]
  },
  {
   "cell_type": "code",
   "execution_count": 10,
   "metadata": {},
   "outputs": [],
   "source": [
    "# Number of stocks in training data\n",
    "n_stocks = X_train.shape[1]\n"
   ]
  },
  {
   "cell_type": "code",
   "execution_count": 11,
   "metadata": {},
   "outputs": [],
   "source": [
    "# Neurons\n",
    "n_neurons_1 = 1024\n",
    "n_neurons_2 = 512\n",
    "n_neurons_3 = 256\n",
    "n_neurons_4 = 128"
   ]
  },
  {
   "cell_type": "code",
   "execution_count": 12,
   "metadata": {},
   "outputs": [],
   "source": [
    "# Session\n",
    "net = tf.InteractiveSession()"
   ]
  },
  {
   "cell_type": "code",
   "execution_count": 13,
   "metadata": {},
   "outputs": [],
   "source": [
    "# Placeholder\n",
    "X = tf.placeholder(dtype=tf.float32, shape=[None, n_stocks])\n",
    "Y = tf.placeholder(dtype=tf.float32, shape=[None])\n"
   ]
  },
  {
   "cell_type": "code",
   "execution_count": 14,
   "metadata": {},
   "outputs": [],
   "source": [
    "# Initializers\n",
    "sigma = 1\n",
    "weight_initializer = tf.variance_scaling_initializer(mode=\"fan_avg\", distribution=\"uniform\", scale=sigma)\n",
    "bias_initializer = tf.zeros_initializer()"
   ]
  },
  {
   "cell_type": "code",
   "execution_count": 15,
   "metadata": {},
   "outputs": [
    {
     "name": "stdout",
     "output_type": "stream",
     "text": [
      "WARNING:tensorflow:From C:\\Users\\omamr\\Anaconda3\\lib\\site-packages\\tensorflow\\python\\framework\\op_def_library.py:263: colocate_with (from tensorflow.python.framework.ops) is deprecated and will be removed in a future version.\n",
      "Instructions for updating:\n",
      "Colocations handled automatically by placer.\n"
     ]
    }
   ],
   "source": [
    "# Hidden weights\n",
    "W_hidden_1 = tf.Variable(weight_initializer([n_stocks, n_neurons_1]))\n",
    "bias_hidden_1 = tf.Variable(bias_initializer([n_neurons_1]))\n",
    "W_hidden_2 = tf.Variable(weight_initializer([n_neurons_1, n_neurons_2]))\n",
    "bias_hidden_2 = tf.Variable(bias_initializer([n_neurons_2]))\n",
    "W_hidden_3 = tf.Variable(weight_initializer([n_neurons_2, n_neurons_3]))\n",
    "bias_hidden_3 = tf.Variable(bias_initializer([n_neurons_3]))\n",
    "W_hidden_4 = tf.Variable(weight_initializer([n_neurons_3, n_neurons_4]))\n",
    "bias_hidden_4 = tf.Variable(bias_initializer([n_neurons_4]))"
   ]
  },
  {
   "cell_type": "code",
   "execution_count": 16,
   "metadata": {},
   "outputs": [],
   "source": [
    "\n",
    "# Output weights\n",
    "W_out = tf.Variable(weight_initializer([n_neurons_4, 1]))\n",
    "bias_out = tf.Variable(bias_initializer([1]))\n"
   ]
  },
  {
   "cell_type": "code",
   "execution_count": 17,
   "metadata": {},
   "outputs": [],
   "source": [
    "# Hidden layer\n",
    "hidden_1 = tf.nn.relu(tf.add(tf.matmul(X, W_hidden_1), bias_hidden_1))\n",
    "hidden_2 = tf.nn.relu(tf.add(tf.matmul(hidden_1, W_hidden_2), bias_hidden_2))\n",
    "hidden_3 = tf.nn.relu(tf.add(tf.matmul(hidden_2, W_hidden_3), bias_hidden_3))\n",
    "hidden_4 = tf.nn.relu(tf.add(tf.matmul(hidden_3, W_hidden_4), bias_hidden_4))\n"
   ]
  },
  {
   "cell_type": "code",
   "execution_count": 18,
   "metadata": {},
   "outputs": [],
   "source": [
    "# Output layer (transpose!)\n",
    "out = tf.transpose(tf.add(tf.matmul(hidden_4, W_out), bias_out))\n"
   ]
  },
  {
   "cell_type": "code",
   "execution_count": 19,
   "metadata": {},
   "outputs": [],
   "source": [
    "# Cost function\n",
    "mse = tf.reduce_mean(tf.squared_difference(out, Y))\n"
   ]
  },
  {
   "cell_type": "code",
   "execution_count": 20,
   "metadata": {},
   "outputs": [],
   "source": [
    "# Optimizer\n",
    "opt = tf.train.AdamOptimizer().minimize(mse)\n"
   ]
  },
  {
   "cell_type": "code",
   "execution_count": 21,
   "metadata": {},
   "outputs": [],
   "source": [
    "# Init\n",
    "net.run(tf.global_variables_initializer())"
   ]
  },
  {
   "cell_type": "code",
   "execution_count": 22,
   "metadata": {},
   "outputs": [
    {
     "data": {
      "image/png": "[encoded data removed]",
      "text/plain": [
       "<Figure size 432x288 with 1 Axes>"
      ]
     },
     "metadata": {
      "needs_background": "light"
     },
     "output_type": "display_data"
    }
   ],
   "source": [
    "# Setup plot\n",
    "plt.ion()\n",
    "fig = plt.figure()\n",
    "ax1 = fig.add_subplot(111)\n",
    "line1, = ax1.plot(y_test)\n",
    "line2, = ax1.plot(y_test * 0.5)\n",
    "plt.show()\n"
   ]
  },
  {
   "cell_type": "code",
   "execution_count": 23,
   "metadata": {},
   "outputs": [],
   "source": [
    "# Fit neural net\n",
    "batch_size = 256\n",
    "mse_train = []\n",
    "mse_test = []"
   ]
  },
  {
   "cell_type": "code",
   "execution_count": 24,
   "metadata": {},
   "outputs": [
    {
     "name": "stdout",
     "output_type": "stream",
     "text": [
      "MSE Train:  1.4686236\n",
      "MSE Test:  4.1338005\n",
      "MSE Train:  0.00059100246\n",
      "MSE Test:  0.02437776\n",
      "MSE Train:  0.0002507506\n",
      "MSE Test:  0.01187264\n",
      "MSE Train:  0.00014375606\n",
      "MSE Test:  0.009867926\n",
      "MSE Train:  0.00016781889\n",
      "MSE Test:  0.0076377974\n",
      "MSE Train:  0.00010559937\n",
      "MSE Test:  0.0066846884\n",
      "MSE Train:  0.00045649704\n",
      "MSE Test:  0.006516764\n",
      "MSE Train:  0.00012854679\n",
      "MSE Test:  0.0056741056\n",
      "MSE Train:  0.00015355203\n",
      "MSE Test:  0.005412528\n",
      "MSE Train:  0.00017882856\n",
      "MSE Test:  0.005160371\n",
      "MSE Train:  0.0001271371\n",
      "MSE Test:  0.0043609315\n",
      "MSE Train:  0.0001022827\n",
      "MSE Test:  0.0041963793\n",
      "MSE Train:  9.175149e-05\n",
      "MSE Test:  0.0043840767\n",
      "MSE Train:  7.728491e-05\n",
      "MSE Test:  0.0044917837\n",
      "MSE Train:  7.6608645e-05\n",
      "MSE Test:  0.004013201\n",
      "MSE Train:  0.00014554586\n",
      "MSE Test:  0.0035823195\n",
      "MSE Train:  7.128899e-05\n",
      "MSE Test:  0.0042825295\n",
      "MSE Train:  9.545717e-05\n",
      "MSE Test:  0.0038095843\n",
      "MSE Train:  0.00014452114\n",
      "MSE Test:  0.0045461957\n",
      "MSE Train:  9.566397e-05\n",
      "MSE Test:  0.0037929479\n",
      "MSE Train:  6.030148e-05\n",
      "MSE Test:  0.0037704166\n",
      "MSE Train:  0.00013850568\n",
      "MSE Test:  0.004764353\n",
      "MSE Train:  6.028182e-05\n",
      "MSE Test:  0.0042252047\n",
      "MSE Train:  0.00036142225\n",
      "MSE Test:  0.0046094884\n",
      "MSE Train:  8.6744236e-05\n",
      "MSE Test:  0.004092969\n",
      "MSE Train:  6.3108266e-05\n",
      "MSE Test:  0.0033586933\n",
      "MSE Train:  0.00018530076\n",
      "MSE Test:  0.0054891226\n",
      "MSE Train:  6.060668e-05\n",
      "MSE Test:  0.0038733738\n",
      "MSE Train:  9.560066e-05\n",
      "MSE Test:  0.003714332\n",
      "MSE Train:  5.027041e-05\n",
      "MSE Test:  0.0047561037\n"
     ]
    }
   ],
   "source": [
    "\n",
    "# Run\n",
    "epochs = 10\n",
    "for e in range(epochs):\n",
    "\n",
    "    # Shuffle training data\n",
    "    shuffle_indices = np.random.permutation(np.arange(len(y_train)))\n",
    "    X_train = X_train[shuffle_indices]\n",
    "    y_train = y_train[shuffle_indices]\n",
    "\n",
    "    # Minibatch training\n",
    "    for i in range(0, len(y_train) // batch_size):\n",
    "        start = i * batch_size\n",
    "        batch_x = X_train[start:start + batch_size]\n",
    "        batch_y = y_train[start:start + batch_size]\n",
    "        # Run optimizer with batch\n",
    "        net.run(opt, feed_dict={X: batch_x, Y: batch_y})\n",
    "\n",
    "        # Show progress\n",
    "        if np.mod(i, 50) == 0:\n",
    "            # MSE train and test\n",
    "            mse_train.append(net.run(mse, feed_dict={X: X_train, Y: y_train}))\n",
    "            mse_test.append(net.run(mse, feed_dict={X: X_test, Y: y_test}))\n",
    "            print('MSE Train: ', mse_train[-1])\n",
    "            print('MSE Test: ', mse_test[-1])\n",
    "            # Prediction\n",
    "            pred = net.run(out, feed_dict={X: X_test})\n",
    "#             plt.ion()\n",
    "#             fig = plt.figure()\n",
    "#             ax1 = fig.add_subplot(111)\n",
    "#             line1, = ax1.plot(y_test)\n",
    "#             line2= ax1.plot(pred)\n",
    "#             plt.title('Epoch ' + str(e) + ', Batch ' + str(i))\n",
    "#             plt.show()\n",
    "#             plt.pause(0.01)"
   ]
  },
  {
   "cell_type": "code",
   "execution_count": null,
   "metadata": {},
   "outputs": [],
   "source": []
  }
 ],
 "metadata": {
  "kernelspec": {
   "display_name": "Python 3",
   "language": "python",
   "name": "python3"
  },
  "language_info": {
   "codemirror_mode": {
    "name": "ipython",
    "version": 3
   },
   "file_extension": ".py",
   "mimetype": "text/x-python",
   "name": "python",
   "nbconvert_exporter": "python",
   "pygments_lexer": "ipython3",
   "version": "3.7.3"
  }
 },
 "nbformat": 4,
 "nbformat_minor": 2
}
